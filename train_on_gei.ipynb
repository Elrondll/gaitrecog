{
 "cells": [
  {
   "cell_type": "code",
   "execution_count": null,
   "metadata": {},
   "outputs": [],
   "source": [
    "from train_on_gei import *"
   ]
  },
  {
   "cell_type": "code",
   "execution_count": null,
   "metadata": {},
   "outputs": [],
   "source": [
    "torch.cuda.set_device(0)"
   ]
  },
  {
   "cell_type": "markdown",
   "metadata": {},
   "source": [
    "Train"
   ]
  },
  {
   "cell_type": "code",
   "execution_count": null,
   "metadata": {},
   "outputs": [],
   "source": [
    "#set_seed(0)"
   ]
  },
  {
   "cell_type": "code",
   "execution_count": null,
   "metadata": {},
   "outputs": [],
   "source": [
    "dataset = 'casiab-nm'\n",
    "# ends of (tr,vl,ts) splits\n",
    "splitset = '50,74,124'\n",
    "# train with the first 74 persons\n",
    "task,split = 'tr','tv'\n",
    "# LB model\n",
    "model = 'lb'\n",
    "# MT model\n",
    "#model = 'mt'\n",
    "# Siamese model\n",
    "#model = 's'\n",
    "\n",
    "opt,lr,mom,wd,bs,epochs,sched = 'sgd',0.01,0.9,0.0005,128,240,'st-14-96'"
   ]
  },
  {
   "cell_type": "code",
   "execution_count": null,
   "metadata": {},
   "outputs": [],
   "source": [
    "data,data_mean = get_data(dataset, splitset, bs, task, split)"
   ]
  },
  {
   "cell_type": "code",
   "execution_count": null,
   "metadata": {},
   "outputs": [],
   "source": [
    "get_net = {'lb':LBNet,'mt':MTNet,'s':SiameseNet,'d':DebugNet}.get(model, None)\n",
    "if get_net: net = get_net(data_mean=data_mean)\n",
    "else: assert False, 'Not implemented for model {}.'.format(model)\n",
    "model_dir = Path('output')/dataset\n",
    "assert opt=='sgd', f'Unknown opt method {opt}'\n",
    "opt_func = partial(SGDEx, momentum=mom)\n",
    "learn = LearnerEx(data, net, opt_func=opt_func, metrics=accuracy,\n",
    "                  true_wd=False, wd=wd, path=Path('..'), model_dir=model_dir)\n",
    "learn.callback_fns[0] = partial(RecorderEx, add_time=learn.add_time)"
   ]
  },
  {
   "cell_type": "code",
   "execution_count": null,
   "metadata": {},
   "outputs": [],
   "source": [
    "model_name = f'{dataset}_{model}_{opt}-{lr}-{mom}-{wd}_{sched}_bs{bs}_{split}'\n",
    "assert sched.startswith('st')\n",
    "iters = array([float(x)*10000 for x in sched.split('-')[1:]])\n",
    "batches = len(data.train_dl) * epochs\n",
    "assert np.all(iters < batches)\n",
    "iters = np.append(iters, batches).astype(np.int)\n",
    "phs = [TrainingPhase(x).schedule_hp('lr', lr*0.1**i) for i,x in enumerate(iters)]\n",
    "learn.callback_fns += [\n",
    "    partial(GeneralScheduler, phases=phs),\n",
    "    partial(SaveModelCallback, every='epoch', name=model_name),\n",
    "]"
   ]
  },
  {
   "cell_type": "code",
   "execution_count": null,
   "metadata": {},
   "outputs": [],
   "source": [
    "learn.fit(epochs, 1)\n",
    "learn.recorder.plot_losses()"
   ]
  },
  {
   "cell_type": "markdown",
   "metadata": {},
   "source": [
    "Test"
   ]
  },
  {
   "cell_type": "code",
   "execution_count": null,
   "metadata": {},
   "outputs": [],
   "source": [
    "data,_ = get_data(dataset, splitset, bs, 'ts', 'ts')"
   ]
  },
  {
   "cell_type": "code",
   "execution_count": null,
   "metadata": {},
   "outputs": [],
   "source": [
    "learn = LearnerEx(data, net, metrics=accuracy, path=Path('..'), model_dir=model_dir)\n",
    "learn.create_opt(lr, wd)\n",
    "learn.callback_fns[0] = partial(RecorderEx, add_time=learn.add_time)\n",
    "learn.callbacks += [learn.callback_fns[0](learn)]\n",
    "learn.load('casiab-nm_lb_sgd-0.01-0.9-0.0005_st-14-96_bs128_tv_239', purge=False)\n",
    "preds = learn.get_preds()"
   ]
  },
  {
   "cell_type": "code",
   "execution_count": null,
   "metadata": {},
   "outputs": [],
   "source": [
    "xl = learn.data.valid_dl.x\n",
    "# acc.shape is (probe,gallery)\n",
    "acc = RecorderEx.calc_acc(learn.recorder.preds, xl.items1.inner_df, xl.items2.inner_df)\n",
    "pacc = array([j[array(chain(range(i),range(i+1,acc.shape[1])))] for i,j in enumerate(acc)])\n",
    "with np_print_options(formatter={'float':'{:1.7f}'.format}, threshold=sys.maxsize):\n",
    "    print(pacc.mean())\n",
    "    print(pacc.mean(1))\n",
    "    print(acc)"
   ]
  }
 ],
 "metadata": {
  "kernelspec": {
   "display_name": "Python 3",
   "language": "python",
   "name": "python3"
  },
  "language_info": {
   "codemirror_mode": {
    "name": "ipython",
    "version": 3
   },
   "file_extension": ".py",
   "mimetype": "text/x-python",
   "name": "python",
   "nbconvert_exporter": "python",
   "pygments_lexer": "ipython3",
   "version": "3.6.8"
  }
 },
 "nbformat": 4,
 "nbformat_minor": 2
}
